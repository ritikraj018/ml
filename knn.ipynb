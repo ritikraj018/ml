{
 "cells": [
  {
   "cell_type": "code",
   "execution_count": 7,
   "id": "050be199",
   "metadata": {},
   "outputs": [],
   "source": [
    "import pandas as pd\n",
    "import numpy as np\n",
    "import matplotlib.pyplot as plt\n",
    "from sklearn.model_selection import train_test_split\n",
    "from sklearn.neighbors import KNeighborsClassifier"
   ]
  },
  {
   "cell_type": "code",
   "execution_count": 8,
   "id": "31ae44ad",
   "metadata": {},
   "outputs": [
    {
     "data": {
      "text/html": [
       "<div>\n",
       "<style scoped>\n",
       "    .dataframe tbody tr th:only-of-type {\n",
       "        vertical-align: middle;\n",
       "    }\n",
       "\n",
       "    .dataframe tbody tr th {\n",
       "        vertical-align: top;\n",
       "    }\n",
       "\n",
       "    .dataframe thead th {\n",
       "        text-align: right;\n",
       "    }\n",
       "</style>\n",
       "<table border=\"1\" class=\"dataframe\">\n",
       "  <thead>\n",
       "    <tr style=\"text-align: right;\">\n",
       "      <th></th>\n",
       "      <th>Area</th>\n",
       "      <th>Perimeter</th>\n",
       "      <th>Compactness</th>\n",
       "      <th>KernelLength</th>\n",
       "      <th>KernelWidth</th>\n",
       "      <th>AsymCoeff</th>\n",
       "      <th>KernelGrov_Length</th>\n",
       "      <th>Class</th>\n",
       "    </tr>\n",
       "  </thead>\n",
       "  <tbody>\n",
       "    <tr>\n",
       "      <th>0</th>\n",
       "      <td>15.26</td>\n",
       "      <td>14.84</td>\n",
       "      <td>0.8710</td>\n",
       "      <td>5.763</td>\n",
       "      <td>3.312</td>\n",
       "      <td>2.221</td>\n",
       "      <td>5.220</td>\n",
       "      <td>1</td>\n",
       "    </tr>\n",
       "    <tr>\n",
       "      <th>1</th>\n",
       "      <td>14.88</td>\n",
       "      <td>14.57</td>\n",
       "      <td>0.8811</td>\n",
       "      <td>5.554</td>\n",
       "      <td>3.333</td>\n",
       "      <td>1.018</td>\n",
       "      <td>4.956</td>\n",
       "      <td>1</td>\n",
       "    </tr>\n",
       "    <tr>\n",
       "      <th>2</th>\n",
       "      <td>14.29</td>\n",
       "      <td>14.09</td>\n",
       "      <td>0.9050</td>\n",
       "      <td>5.291</td>\n",
       "      <td>3.337</td>\n",
       "      <td>2.699</td>\n",
       "      <td>4.825</td>\n",
       "      <td>1</td>\n",
       "    </tr>\n",
       "    <tr>\n",
       "      <th>3</th>\n",
       "      <td>13.84</td>\n",
       "      <td>13.94</td>\n",
       "      <td>0.8955</td>\n",
       "      <td>5.324</td>\n",
       "      <td>3.379</td>\n",
       "      <td>2.259</td>\n",
       "      <td>4.805</td>\n",
       "      <td>1</td>\n",
       "    </tr>\n",
       "    <tr>\n",
       "      <th>4</th>\n",
       "      <td>16.14</td>\n",
       "      <td>14.99</td>\n",
       "      <td>0.9034</td>\n",
       "      <td>5.658</td>\n",
       "      <td>3.562</td>\n",
       "      <td>1.355</td>\n",
       "      <td>5.175</td>\n",
       "      <td>1</td>\n",
       "    </tr>\n",
       "  </tbody>\n",
       "</table>\n",
       "</div>"
      ],
      "text/plain": [
       "    Area  Perimeter  Compactness  KernelLength  KernelWidth  AsymCoeff  \\\n",
       "0  15.26      14.84       0.8710         5.763        3.312      2.221   \n",
       "1  14.88      14.57       0.8811         5.554        3.333      1.018   \n",
       "2  14.29      14.09       0.9050         5.291        3.337      2.699   \n",
       "3  13.84      13.94       0.8955         5.324        3.379      2.259   \n",
       "4  16.14      14.99       0.9034         5.658        3.562      1.355   \n",
       "\n",
       "   KernelGrov_Length  Class  \n",
       "0              5.220      1  \n",
       "1              4.956      1  \n",
       "2              4.825      1  \n",
       "3              4.805      1  \n",
       "4              5.175      1  "
      ]
     },
     "execution_count": 8,
     "metadata": {},
     "output_type": "execute_result"
    }
   ],
   "source": [
    "df = pd.read_csv('Classification1_Seeds - Classification1_Seeds.csv')\n",
    "df.head()"
   ]
  },
  {
   "cell_type": "code",
   "execution_count": 12,
   "id": "f5a31be2",
   "metadata": {},
   "outputs": [],
   "source": [
    "X_train,X_test,Y_train,Y_test = train_test_split(df.drop('Class',axis=1),df['Class'],test_size=0.30, random_state=101)"
   ]
  },
  {
   "cell_type": "code",
   "execution_count": 13,
   "id": "eac196f2",
   "metadata": {},
   "outputs": [],
   "source": [
    "knn = KNeighborsClassifier(n_neighbors=5)"
   ]
  },
  {
   "cell_type": "code",
   "execution_count": 14,
   "id": "11e494ce",
   "metadata": {},
   "outputs": [
    {
     "data": {
      "text/plain": [
       "KNeighborsClassifier()"
      ]
     },
     "execution_count": 14,
     "metadata": {},
     "output_type": "execute_result"
    }
   ],
   "source": [
    "knn.fit(X_train,Y_train)"
   ]
  },
  {
   "cell_type": "code",
   "execution_count": 15,
   "id": "1a6db031",
   "metadata": {},
   "outputs": [],
   "source": [
    "pred = knn.predict(X_test)"
   ]
  },
  {
   "cell_type": "code",
   "execution_count": 16,
   "id": "59acfd3b",
   "metadata": {},
   "outputs": [],
   "source": [
    "from sklearn.metrics import accuracy_score, confusion_matrix"
   ]
  },
  {
   "cell_type": "code",
   "execution_count": 17,
   "id": "f6603c07",
   "metadata": {},
   "outputs": [
    {
     "name": "stdout",
     "output_type": "stream",
     "text": [
      "[[19  3  4]\n",
      " [ 0 15  0]\n",
      " [ 0  0 22]]\n"
     ]
    }
   ],
   "source": [
    "print(confusion_matrix(Y_test,pred))"
   ]
  },
  {
   "cell_type": "code",
   "execution_count": 18,
   "id": "690b56aa",
   "metadata": {},
   "outputs": [
    {
     "name": "stdout",
     "output_type": "stream",
     "text": [
      "Accuracy: 88.89%\n"
     ]
    }
   ],
   "source": [
    "score = accuracy_score(Y_test,pred)\n",
    "print(f'Accuracy: {round(score*100,2)}%')"
   ]
  },
  {
   "cell_type": "code",
   "execution_count": 19,
   "id": "ca4cd2e7",
   "metadata": {},
   "outputs": [],
   "source": [
    "accuracy = []"
   ]
  },
  {
   "cell_type": "code",
   "execution_count": 20,
   "id": "9e7d403f",
   "metadata": {},
   "outputs": [],
   "source": [
    "k= []"
   ]
  },
  {
   "cell_type": "code",
   "execution_count": 21,
   "id": "de415449",
   "metadata": {},
   "outputs": [
    {
     "name": "stdout",
     "output_type": "stream",
     "text": [
      "87.3015873015873\n",
      "90.47619047619048\n",
      "84.12698412698413\n",
      "88.88888888888889\n",
      "88.88888888888889\n",
      "92.06349206349206\n",
      "90.47619047619048\n",
      "92.06349206349206\n",
      "88.88888888888889\n",
      "90.47619047619048\n",
      "88.88888888888889\n",
      "88.88888888888889\n",
      "87.3015873015873\n",
      "88.88888888888889\n",
      "88.88888888888889\n",
      "88.88888888888889\n",
      "90.47619047619048\n",
      "88.88888888888889\n",
      "88.88888888888889\n",
      "88.88888888888889\n",
      "90.47619047619048\n",
      "93.65079365079364\n",
      "90.47619047619048\n",
      "90.47619047619048\n",
      "90.47619047619048\n",
      "92.06349206349206\n",
      "90.47619047619048\n",
      "88.88888888888889\n",
      "88.88888888888889\n",
      "88.88888888888889\n",
      "88.88888888888889\n",
      "88.88888888888889\n",
      "88.88888888888889\n",
      "90.47619047619048\n",
      "90.47619047619048\n",
      "90.47619047619048\n",
      "90.47619047619048\n",
      "90.47619047619048\n",
      "92.06349206349206\n"
     ]
    }
   ],
   "source": [
    "for i in range(1,40):\n",
    "    k.append(i)\n",
    "    knn=KNeighborsClassifier(n_neighbors=i)\n",
    "    knn.fit(X_train,Y_train)\n",
    "    pred_i = knn.predict(X_test)\n",
    "    score=accuracy_score(Y_test,pred_i)\n",
    "    print(score*100)\n",
    "    accuracy.append(score)"
   ]
  },
  {
   "cell_type": "code",
   "execution_count": 22,
   "id": "343e9f08",
   "metadata": {},
   "outputs": [
    {
     "data": {
      "text/plain": [
       "Text(0, 0.5, 'Accuracy %')"
      ]
     },
     "execution_count": 22,
     "metadata": {},
     "output_type": "execute_result"
    },
    {
     "data": {
      "image/png": "[encoded data removed]",
      "text/plain": [
       "<Figure size 432x288 with 1 Axes>"
      ]
     },
     "metadata": {
      "needs_background": "light"
     },
     "output_type": "display_data"
    }
   ],
   "source": [
    "import matplotlib.pyplot as plt\n",
    "import numpy as np\n",
    "plt.plot(k,accuracy)\n",
    "plt.title('Accuracy vs. K Value')\n",
    "plt.xlabel('K Value')\n",
    "plt.ylabel('Accuracy %')"
   ]
  },
  {
   "cell_type": "code",
   "execution_count": null,
   "id": "d364e33c",
   "metadata": {},
   "outputs": [],
   "source": []
  }
 ],
 "metadata": {
  "kernelspec": {
   "display_name": "Python 3 (ipykernel)",
   "language": "python",
   "name": "python3"
  },
  "language_info": {
   "codemirror_mode": {
    "name": "ipython",
    "version": 3
   },
   "file_extension": ".py",
   "mimetype": "text/x-python",
   "name": "python",
   "nbconvert_exporter": "python",
   "pygments_lexer": "ipython3",
   "version": "3.9.7"
  }
 },
 "nbformat": 4,
 "nbformat_minor": 5
}
